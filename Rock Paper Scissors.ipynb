{
 "cells": [
  {
   "cell_type": "markdown",
   "metadata": {},
   "source": [
    "## This is a python program which lets users play the famous game Rock Paper Scissors with computer"
   ]
  },
  {
   "cell_type": "code",
   "execution_count": null,
   "metadata": {},
   "outputs": [],
   "source": [
    "import random\n",
    "\n",
    "opt = ['rock', 'paper', 'scissors']\n",
    "\n",
    "print('How many times you want to play?')\n",
    "times = int(input())\n",
    "\n",
    "n = []  # to count the player wins\n",
    "m = []  # to count the computer wins\n",
    "\n",
    "for _ in range(times):\n",
    "    i = random.randint(0,2)\n",
    "    comp = opt[i]\n",
    "    \n",
    "    print('Enter your choice: (rock,paper,scissors)')\n",
    "    user = input().lower()\n",
    "    \n",
    "    if user == comp:\n",
    "        print(\" That's a tie\")\n",
    "        n.append(0)\n",
    "        m.append(0)\n",
    "    elif user == 'rock':\n",
    "        if comp =='scissors':\n",
    "            print(' Congrats ', user,' smashed ', comp)\n",
    "            n.append(1)\n",
    "        else:\n",
    "            print(' Sorry ', comp, ' covered ', user)\n",
    "            m.append(1)\n",
    "    elif user == 'paper':\n",
    "        if comp == 'rock':\n",
    "            print(' Congrats ', user,' covered ', comp)\n",
    "            n.append(1)\n",
    "        else:\n",
    "            print(' Sorry ', comp, ' cuts ', user)\n",
    "            m.append(1)\n",
    "    elif user == 'scissors':\n",
    "        if comp == 'paper':\n",
    "            print(' Congrats ', user, ' cuts ', comp)\n",
    "            n.append(1)\n",
    "        else:\n",
    "            print(' Sorry ', comp, ' covered ', user)\n",
    "            m.append(1)\n",
    "    else:\n",
    "        print(\" You've not entered a valid choice!, please enter either rock, paper or scissors\")\n",
    "\n",
    "\n",
    "user_wins = sum(n)        \n",
    "comp_wins = sum(m)\n",
    "print('You have won ', user_wins, 'times')\n",
    "print('Computer has won', comp_wins , 'times')\n",
    "if comp_wins == user_wins:\n",
    "    print(\"That's a tie\")\n",
    "elif comp_wins > user_wins:\n",
    "    print('Sorry computer has won this time')\n",
    "else:\n",
    "    print('Congrats, you have won the game !!!')"
   ]
  }
 ],
 "metadata": {
  "kernelspec": {
   "display_name": "Python 3",
   "language": "python",
   "name": "python3"
  },
  "language_info": {
   "codemirror_mode": {
    "name": "ipython",
    "version": 3
   },
   "file_extension": ".py",
   "mimetype": "text/x-python",
   "name": "python",
   "nbconvert_exporter": "python",
   "pygments_lexer": "ipython3",
   "version": "3.7.6"
  }
 },
 "nbformat": 4,
 "nbformat_minor": 4
}
